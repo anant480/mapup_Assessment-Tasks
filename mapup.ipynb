{
 "cells": [
  {
   "cell_type": "markdown",
   "id": "4bf0ca75-9e85-4740-ac1a-7e4534d5b187",
   "metadata": {
    "jp-MarkdownHeadingCollapsed": true
   },
   "source": [
    "# Assessment Tasks "
   ]
  },
  {
   "cell_type": "markdown",
   "id": "b2ce63d1-cda8-4f09-978b-d88b40eb5a9d",
   "metadata": {},
   "source": [
    "# Part 1: Data Loading and Cleaning \n",
    "# Download and Load Data \n"
   ]
  },
  {
   "cell_type": "markdown",
   "id": "456a01dc-7313-477f-a762-e54eefeeb7ed",
   "metadata": {},
   "source": [
    "# Download and Load Data\n",
    "# ● Download the compressed dataset from the FTP server\n",
    "# ● Handle the `.gz` compression format appropriately\n",
    "# ● Load the data into a suitable Python data structure\n",
    "# ● Implement proper error handling for network/file operations"
   ]
  },
  {
   "cell_type": "markdown",
   "id": "6993d2a2-4da4-451d-bceb-60c2326c41b5",
   "metadata": {},
   "source": [
    "# Step 1: Download and Extract the Data"
   ]
  },
  {
   "cell_type": "code",
   "execution_count": 6,
   "id": "6f099b88-7115-4188-9e20-f3e9dd20723c",
   "metadata": {},
   "outputs": [
    {
     "name": "stdout",
     "output_type": "stream",
     "text": [
      "Downloaded successfully.\n"
     ]
    }
   ],
   "source": [
    "import requests\n",
    "\n",
    "url = \"https://ita.ee.lbl.gov/traces/calgary_access_log.gz\"\n",
    "filename = \"calgary_access_log.gz\"\n",
    "\n",
    "try:\n",
    "    response = requests.get(url, stream=True)\n",
    "    with open(filename, 'wb') as f:\n",
    "        f.write(response.content)\n",
    "    print(\"Downloaded successfully.\")\n",
    "except Exception as e:\n",
    "    print(f\"Download failed: {e}\")\n",
    "\n"
   ]
  },
  {
   "cell_type": "markdown",
   "id": "6273bcae-87a3-4390-b5e9-a17575b5e2fa",
   "metadata": {},
   "source": [
    "# Data Cleaning\n",
    "# ● Parse timestamp strings into `datetime` objects\n",
    "# Confidential do not share https://mapup.ai/ 3\n",
    "\n",
    "# ● Extract file extensions from the filename field\n",
    "# ● Handle missing or malformed data entries\n",
    "# ● Convert data types appropriately (integers, strings, etc.)\n",
    "# ● Remove or flag invalid log entries"
   ]
  },
  {
   "cell_type": "markdown",
   "id": "8bb77744-ec41-45e8-8c2a-dcdc73eaeafc",
   "metadata": {},
   "source": [
    " # Step 2: Read and Decompress the File"
   ]
  },
  {
   "cell_type": "code",
   "execution_count": 7,
   "id": "3d52ff06-11a1-47b3-8583-f7835e5b8867",
   "metadata": {},
   "outputs": [
    {
     "name": "stdout",
     "output_type": "stream",
     "text": [
      "Loaded 726739 lines from the log file.\n"
     ]
    }
   ],
   "source": [
    "log_lines = []\n",
    "\n",
    "try:\n",
    "    with gzip.open(filename, 'rt', encoding='utf-8', errors='ignore') as file:\n",
    "        for line in file:\n",
    "            log_lines.append(line.strip())\n",
    "    print(f\"Loaded {len(log_lines)} lines from the log file.\")\n",
    "except Exception as e:\n",
    "    print(f\"Error reading file: {e}\")\n"
   ]
  },
  {
   "cell_type": "markdown",
   "id": "bf8845c8-5f51-41fb-bd04-08b4ec8e777f",
   "metadata": {},
   "source": [
    "# Step 3: Basic Cleaning and Structure"
   ]
  },
  {
   "cell_type": "code",
   "execution_count": 11,
   "id": "fe0e3f0c-f5dd-4a11-b5bd-d6bf7dd43a8b",
   "metadata": {},
   "outputs": [
    {
     "name": "stdout",
     "output_type": "stream",
     "text": [
      "Total raw lines: 726739\n",
      "local - - [24/Oct/1994:13:41:41 -0600] \"GET index.html HTTP/1.0\" 200 150\n"
     ]
    }
   ],
   "source": [
    "print(f\"Total raw lines: {len(log_lines)}\")\n",
    "print(log_lines[0])  "
   ]
  },
  {
   "cell_type": "code",
   "execution_count": 13,
   "id": "445e436e-129e-47d8-93db-78c1867f208a",
   "metadata": {},
   "outputs": [
    {
     "name": "stdout",
     "output_type": "stream",
     "text": [
      "local - - [24/Oct/1994:13:41:41 -0600] \"GET index.html HTTP/1.0\" 200 150\n"
     ]
    }
   ],
   "source": [
    "line = 'local - - [24/Oct/1994:13:41:41 -0600] \"GET index.html HTTP/1.0\" 200 150'\n",
    "print(line)"
   ]
  },
  {
   "cell_type": "code",
   "execution_count": 16,
   "id": "394d8b11-9d90-4713-b364-0d336aaf363c",
   "metadata": {},
   "outputs": [],
   "source": [
    "import re\n",
    "from datetime import datetime\n",
    "\n",
    "log_pattern = re.compile(\n",
    "    r'(?P<host>\\S+) \\S+ \\S+ \\[(?P<timestamp>.+?)\\] \"(?P<request>.*?)\" (?P<status>\\d{3}) (?P<bytes>\\S+)'\n",
    ")\n",
    "\n",
    "parsed_logs = []\n",
    "\n",
    "for line in log_lines:\n",
    "    match = log_pattern.match(line)\n",
    "    if match:\n",
    "        data = match.groupdict()\n",
    "        \n",
    "        try:\n",
    "            data['timestamp'] = datetime.strptime(data['timestamp'], \"%d/%b/%Y:%H:%M:%S %z\")\n",
    "        except Exception:\n",
    "            continue  \n",
    "        data['bytes'] = int(data['bytes']) if data['bytes'].isdigit() else 0\n",
    "        request_parts = data['request'].split()\n",
    "        if len(request_parts) == 3:\n",
    "            data['method'], data['resource'], data['protocol'] = request_parts\n",
    "        else:\n",
    "            data['method'] = data['resource'] = data['protocol'] = None\n",
    "        \n",
    "        parsed_logs.append(data)\n",
    "    else:\n",
    "        continue  "
   ]
  },
  {
   "cell_type": "markdown",
   "id": "ca749d31-84a6-45fa-b4b2-59c83087a176",
   "metadata": {},
   "source": [
    " # Step 4: Convert to a DataFrame"
   ]
  },
  {
   "cell_type": "code",
   "execution_count": 17,
   "id": "6068c352-5e3c-4e2f-9391-4931210a8d78",
   "metadata": {},
   "outputs": [],
   "source": [
    "import pandas as pd\n",
    "df = pd.DataFrame(parsed_logs)"
   ]
  },
  {
   "cell_type": "markdown",
   "id": "1b6bbd86-2ca0-492b-b5dd-afcfe2a33207",
   "metadata": {},
   "source": [
    " # Step 5: Extract File Extensions"
   ]
  },
  {
   "cell_type": "code",
   "execution_count": 18,
   "id": "09cddf62-2831-460f-8857-e7e4132af18b",
   "metadata": {},
   "outputs": [],
   "source": [
    "df['file_extension'] = df['resource'].apply(\n",
    "    lambda x: x.split('.')[-1] if x and '.' in x else None\n",
    ")"
   ]
  },
  {
   "cell_type": "markdown",
   "id": "339b39db-5ec3-4f3d-8e14-31e6ccfb8671",
   "metadata": {},
   "source": [
    "# Step 6: Final Cleaning"
   ]
  },
  {
   "cell_type": "code",
   "execution_count": 21,
   "id": "c7d193d1-f61a-4dfc-86f4-e7c1515809bb",
   "metadata": {},
   "outputs": [],
   "source": [
    "df_cleaned = df.dropna(subset=['timestamp', 'resource']).copy()\n",
    "df_cleaned['status'] = df_cleaned['status'].astype(int) \n"
   ]
  },
  {
   "cell_type": "code",
   "execution_count": 22,
   "id": "9e16ea25-1700-4211-8e9f-ed827467114e",
   "metadata": {},
   "outputs": [],
   "source": [
    "import pandas as pd\n",
    "from collections import Counter, defaultdict\n",
    "from datetime import datetime\n"
   ]
  },
  {
   "cell_type": "markdown",
   "id": "4b0bc82e-70ac-4b69-96b5-dc49abb154d3",
   "metadata": {},
   "source": [
    "# Q1. Total number of log records"
   ]
  },
  {
   "cell_type": "code",
   "execution_count": 23,
   "id": "8c05134f-33ec-4653-9393-1c8252ddb159",
   "metadata": {},
   "outputs": [
    {
     "name": "stdout",
     "output_type": "stream",
     "text": [
      "722341\n"
     ]
    }
   ],
   "source": [
    "total_logs = len(df_cleaned)\n",
    "print(total_logs)\n"
   ]
  },
  {
   "cell_type": "markdown",
   "id": "7530535a-234d-41b1-a6ee-a64ebd4fbee7",
   "metadata": {},
   "source": [
    "# Q2. Count of unique hosts"
   ]
  },
  {
   "cell_type": "code",
   "execution_count": 24,
   "id": "ecb9cd7b-d527-49f8-a609-bbf6a134b59a",
   "metadata": {},
   "outputs": [
    {
     "name": "stdout",
     "output_type": "stream",
     "text": [
      "2\n"
     ]
    }
   ],
   "source": [
    "unique_hosts = df_cleaned['host'].nunique()\n",
    "print(unique_hosts)\n"
   ]
  },
  {
   "cell_type": "markdown",
   "id": "253b6e34-a36d-41f2-8f5a-f3ad5dddd49e",
   "metadata": {},
   "source": [
    "# Q3. Date-wise unique filename counts"
   ]
  },
  {
   "cell_type": "code",
   "execution_count": 26,
   "id": "fa26e04c-c353-4a34-9f12-de44283b2542",
   "metadata": {},
   "outputs": [],
   "source": [
    "df_cleaned['timestamp'] = pd.to_datetime(df_cleaned['timestamp'], errors='coerce')\n",
    "df_cleaned = df_cleaned.dropna(subset=['timestamp'])\n",
    "df_cleaned['date_str'] = df_cleaned['timestamp'].dt.strftime('%d-%b-%Y')\n"
   ]
  },
  {
   "cell_type": "code",
   "execution_count": 27,
   "id": "16274bd0-ca9b-4553-a4a6-03edae540c36",
   "metadata": {},
   "outputs": [
    {
     "name": "stdout",
     "output_type": "stream",
     "text": [
      "{'01-Aug-1995': 669, '01-Jul-1995': 387, '01-Jun-1995': 590, '01-May-1995': 467, '01-Oct-1995': 552, '01-Sep-1995': 328, '02-Apr-1995': 438, '02-Aug-1995': 855, '02-Jul-1995': 397, '02-Jun-1995': 513, '02-May-1995': 701, '02-Oct-1995': 871, '02-Sep-1995': 349, '03-Apr-1995': 795, '03-Aug-1995': 582, '03-Jul-1995': 433, '03-Jun-1995': 398, '03-May-1995': 589, '03-Oct-1995': 846, '03-Sep-1995': 212, '04-Apr-1995': 821, '04-Aug-1995': 715, '04-Jul-1995': 610, '04-Jun-1995': 353, '04-May-1995': 684, '04-Oct-1995': 889, '04-Sep-1995': 340, '05-Apr-1995': 891, '05-Aug-1995': 507, '05-Jul-1995': 607, '05-Jun-1995': 494, '05-May-1995': 609, '05-Oct-1995': 846, '05-Sep-1995': 411, '06-Apr-1995': 678, '06-Aug-1995': 448, '06-Jul-1995': 522, '06-Jun-1995': 662, '06-May-1995': 517, '06-Oct-1995': 868, '06-Sep-1995': 549, '07-Apr-1995': 776, '07-Aug-1995': 608, '07-Jul-1995': 428, '07-Jun-1995': 486, '07-May-1995': 725, '07-Oct-1995': 468, '07-Sep-1995': 590, '08-Apr-1995': 542, '08-Aug-1995': 654, '08-Jul-1995': 277, '08-Jun-1995': 642, '08-May-1995': 656, '08-Oct-1995': 514, '08-Sep-1995': 754, '09-Apr-1995': 626, '09-Aug-1995': 698, '09-Jul-1995': 233, '09-Jun-1995': 468, '09-May-1995': 775, '09-Oct-1995': 742, '09-Sep-1995': 408, '10-Apr-1995': 751, '10-Aug-1995': 635, '10-Jul-1995': 502, '10-Jun-1995': 328, '10-May-1995': 794, '10-Oct-1995': 841, '10-Sep-1995': 455, '11-Apr-1995': 816, '11-Aug-1995': 451, '11-Jul-1995': 571, '11-Jun-1995': 297, '11-May-1995': 599, '11-Oct-1995': 717, '11-Sep-1995': 717, '12-Apr-1995': 887, '12-Aug-1995': 340, '12-Jul-1995': 467, '12-Jun-1995': 519, '12-May-1995': 469, '12-Sep-1995': 718, '13-Apr-1995': 613, '13-Aug-1995': 463, '13-Jul-1995': 499, '13-Jun-1995': 465, '13-May-1995': 289, '13-Sep-1995': 773, '14-Apr-1995': 353, '14-Aug-1995': 589, '14-Jul-1995': 551, '14-Jun-1995': 589, '14-May-1995': 326, '14-Sep-1995': 720, '15-Apr-1995': 418, '15-Aug-1995': 481, '15-Jul-1995': 384, '15-Jun-1995': 479, '15-May-1995': 584, '15-Sep-1995': 709, '16-Apr-1995': 434, '16-Aug-1995': 601, '16-Jul-1995': 299, '16-Jun-1995': 529, '16-May-1995': 432, '16-Sep-1995': 564, '17-Apr-1995': 446, '17-Aug-1995': 537, '17-Jul-1995': 568, '17-Jun-1995': 383, '17-May-1995': 508, '17-Sep-1995': 466, '18-Apr-1995': 452, '18-Aug-1995': 492, '18-Jul-1995': 557, '18-Jun-1995': 358, '18-May-1995': 528, '18-Sep-1995': 657, '19-Apr-1995': 704, '19-Aug-1995': 377, '19-Jul-1995': 471, '19-Jun-1995': 612, '19-May-1995': 499, '19-Sep-1995': 735, '20-Apr-1995': 587, '20-Aug-1995': 395, '20-Jul-1995': 569, '20-Jun-1995': 531, '20-May-1995': 254, '20-Sep-1995': 832, '21-Apr-1995': 713, '21-Aug-1995': 631, '21-Jul-1995': 649, '21-Jun-1995': 625, '21-May-1995': 288, '21-Sep-1995': 800, '22-Apr-1995': 435, '22-Aug-1995': 538, '22-Jul-1995': 444, '22-Jun-1995': 630, '22-May-1995': 477, '22-Sep-1995': 615, '23-Apr-1995': 332, '23-Aug-1995': 660, '23-Jul-1995': 498, '23-Jun-1995': 561, '23-May-1995': 565, '23-Sep-1995': 502, '24-Apr-1995': 529, '24-Aug-1995': 578, '24-Jul-1995': 565, '24-Jun-1995': 396, '24-May-1995': 490, '24-Oct-1994': 228, '24-Sep-1995': 593, '25-Apr-1995': 557, '25-Aug-1995': 595, '25-Jul-1995': 588, '25-Jun-1995': 569, '25-May-1995': 487, '25-Oct-1994': 319, '25-Sep-1995': 723, '26-Apr-1995': 647, '26-Aug-1995': 394, '26-Jul-1995': 598, '26-Jun-1995': 638, '26-May-1995': 424, '26-Oct-1994': 377, '26-Sep-1995': 871, '27-Apr-1995': 616, '27-Aug-1995': 436, '27-Jul-1995': 614, '27-Jun-1995': 518, '27-May-1995': 244, '27-Oct-1994': 384, '27-Sep-1995': 826, '28-Apr-1995': 637, '28-Aug-1995': 548, '28-Jul-1995': 564, '28-Jun-1995': 583, '28-May-1995': 205, '28-Oct-1994': 399, '28-Sep-1995': 867, '29-Apr-1995': 449, '29-Aug-1995': 511, '29-Jul-1995': 320, '29-Jun-1995': 469, '29-May-1995': 464, '29-Oct-1994': 254, '29-Sep-1995': 838, '30-Apr-1995': 277, '30-Aug-1995': 593, '30-Jul-1995': 481, '30-Jun-1995': 461, '30-May-1995': 553, '30-Oct-1994': 20, '30-Sep-1995': 650, '31-Aug-1995': 509, '31-Jul-1995': 622, '31-May-1995': 571}\n"
     ]
    }
   ],
   "source": [
    "df_cleaned['date_str'] = df_cleaned['timestamp'].dt.strftime('%d-%b-%Y')\n",
    "datewise_unique_files = (\n",
    "    df_cleaned.groupby('date_str')['resource']\n",
    "    .nunique()\n",
    "    .to_dict()\n",
    ")\n",
    "print(datewise_unique_files)\n"
   ]
  },
  {
   "cell_type": "markdown",
   "id": "2cfe96cb-226c-4880-af16-49b7f7bb0d75",
   "metadata": {},
   "source": [
    "# Q4. Number of 404 response codes"
   ]
  },
  {
   "cell_type": "code",
   "execution_count": 28,
   "id": "81bae8b6-63b7-4886-9230-2eddfaad0fd1",
   "metadata": {},
   "outputs": [
    {
     "name": "stdout",
     "output_type": "stream",
     "text": [
      "14586\n"
     ]
    }
   ],
   "source": [
    "not_found_404 = (df_cleaned['status'] == 404).sum()\n",
    "print(not_found_404)\n"
   ]
  },
  {
   "cell_type": "markdown",
   "id": "5f7b24f0-30a9-44d0-b191-66016a975f67",
   "metadata": {},
   "source": [
    "# Q5. Top 15 filenames with 404"
   ]
  },
  {
   "cell_type": "code",
   "execution_count": 29,
   "id": "035f801f-061c-4b3a-a972-719502f3337e",
   "metadata": {},
   "outputs": [
    {
     "name": "stdout",
     "output_type": "stream",
     "text": [
      "[('index.html', 3119), ('4115.html', 901), ('1611.html', 647), ('5698.xbm', 500), ('710.txt', 254), ('10695.ps', 161), ('6555.html', 153), ('9678.gif', 142), ('3268.gif', 138), ('9814.gif', 134), ('11059.gif', 129), ('11060.gif', 129), ('9388.xbm', 120), ('151.html', 119), ('1685.html', 113)]\n"
     ]
    }
   ],
   "source": [
    "top_404_files = (\n",
    "    df_cleaned[df_cleaned['status'] == 404]['resource']\n",
    "    .value_counts()\n",
    "    .head(15)\n",
    "    .items()\n",
    ")\n",
    "print(list(top_404_files))\n"
   ]
  },
  {
   "cell_type": "markdown",
   "id": "99568039-64cf-405c-b7d7-158944f60509",
   "metadata": {},
   "source": [
    "# Q6. Top 15 file extensions with 404"
   ]
  },
  {
   "cell_type": "code",
   "execution_count": 30,
   "id": "4dd5c52b-0436-4c8f-a253-aa49f86237af",
   "metadata": {},
   "outputs": [
    {
     "name": "stdout",
     "output_type": "stream",
     "text": [
      "[('html', 8051), ('gif', 4013), ('xbm', 665), ('ps', 562), ('txt', 265), ('jpg', 200), ('cgi', 76), ('GIF', 42), ('htm', 40), ('gif\"', 34), ('com', 29), ('com/', 24), ('dvi', 23), ('rgb', 21), ('html/', 21)]\n"
     ]
    }
   ],
   "source": [
    "df_cleaned['file_extension'] = df_cleaned['resource'].apply(\n",
    "    lambda x: x.split('.')[-1] if x and '.' in x else 'none'\n",
    ")\n",
    "\n",
    "top_404_ext = (\n",
    "    df_cleaned[df_cleaned['status'] == 404]['file_extension']\n",
    "    .value_counts()\n",
    "    .head(15)\n",
    "    .items()\n",
    ")\n",
    "print(list(top_404_ext))\n"
   ]
  },
  {
   "cell_type": "markdown",
   "id": "fa012245-fed4-4b4c-abaf-60169656c42c",
   "metadata": {},
   "source": [
    "# Q7. Total bandwidth transferred per day for July 1995"
   ]
  },
  {
   "cell_type": "code",
   "execution_count": 31,
   "id": "f4395b32-4e3f-46f8-b681-76a04a498a91",
   "metadata": {},
   "outputs": [
    {
     "name": "stdout",
     "output_type": "stream",
     "text": [
      "{'01-Jul-1995': 11333976, '02-Jul-1995': 8653986, '03-Jul-1995': 13508529, '04-Jul-1995': 26565884, '05-Jul-1995': 19541225, '06-Jul-1995': 19752989, '07-Jul-1995': 9427822, '08-Jul-1995': 5403491, '09-Jul-1995': 4660556, '10-Jul-1995': 14912796, '11-Jul-1995': 22503471, '12-Jul-1995': 17365039, '13-Jul-1995': 15986302, '14-Jul-1995': 19184404, '15-Jul-1995': 15769181, '16-Jul-1995': 9005564, '17-Jul-1995': 19596435, '18-Jul-1995': 17096829, '19-Jul-1995': 17847673, '20-Jul-1995': 20751717, '21-Jul-1995': 25455607, '22-Jul-1995': 8059932, '23-Jul-1995': 9577795, '24-Jul-1995': 22298075, '25-Jul-1995': 24472760, '26-Jul-1995': 24564950, '27-Jul-1995': 25967969, '28-Jul-1995': 36456855, '29-Jul-1995': 11684209, '30-Jul-1995': 23158170, '31-Jul-1995': 30715614}\n"
     ]
    },
    {
     "name": "stderr",
     "output_type": "stream",
     "text": [
      "C:\\Users\\anant\\AppData\\Local\\Temp\\ipykernel_4312\\181124977.py:6: SettingWithCopyWarning: \n",
      "A value is trying to be set on a copy of a slice from a DataFrame.\n",
      "Try using .loc[row_indexer,col_indexer] = value instead\n",
      "\n",
      "See the caveats in the documentation: https://pandas.pydata.org/pandas-docs/stable/user_guide/indexing.html#returning-a-view-versus-a-copy\n",
      "  df_july95['date_str'] = df_july95['timestamp'].dt.strftime('%d-%b-%Y')\n"
     ]
    }
   ],
   "source": [
    "df_july95 = df_cleaned[\n",
    "    (df_cleaned['timestamp'].dt.month == 7) &\n",
    "    (df_cleaned['timestamp'].dt.year == 1995)\n",
    "]\n",
    "\n",
    "df_july95['date_str'] = df_july95['timestamp'].dt.strftime('%d-%b-%Y')\n",
    "\n",
    "bandwidth_per_day = (\n",
    "    df_july95.groupby('date_str')['bytes']\n",
    "    .sum()\n",
    "    .to_dict()\n",
    ")\n",
    "print(bandwidth_per_day)\n"
   ]
  },
  {
   "cell_type": "markdown",
   "id": "73316651-892f-4899-b33e-50d3eb18548a",
   "metadata": {},
   "source": [
    "# Q8. Hourly request distribution"
   ]
  },
  {
   "cell_type": "code",
   "execution_count": 32,
   "id": "fda95990-3694-47c7-bca4-43dc7fd8892b",
   "metadata": {},
   "outputs": [
    {
     "name": "stdout",
     "output_type": "stream",
     "text": [
      "{0: 11510, 1: 9832, 2: 9346, 3: 8101, 4: 7789, 5: 8234, 6: 9750, 7: 11896, 8: 17302, 9: 21637, 10: 25627, 11: 28584, 12: 26749, 13: 29997, 14: 29636, 15: 28041, 16: 28202, 17: 23229, 18: 17778, 19: 17253, 20: 17437, 21: 15915, 22: 14500, 23: 13534}\n"
     ]
    }
   ],
   "source": [
    "df_cleaned['hour'] = df_cleaned['timestamp'].dt.hour\n",
    "hourly_dist = df_cleaned['hour'].value_counts().sort_index().to_dict()\n",
    "print(hourly_dist)\n"
   ]
  },
  {
   "cell_type": "markdown",
   "id": "e603f0c2-da16-4cca-8a70-be2e2ac50e8d",
   "metadata": {},
   "source": [
    "# Q9. Top 10 most requested filenames"
   ]
  },
  {
   "cell_type": "code",
   "execution_count": 33,
   "id": "12628b8b-c6f5-482f-858d-6f0cd4c68a70",
   "metadata": {},
   "outputs": [
    {
     "name": "stdout",
     "output_type": "stream",
     "text": [
      "[('index.html', 75299), ('3.gif', 11949), ('2.gif', 11559), ('4097.gif', 4733), ('8870.jpg', 4492), ('244.gif', 4339), ('6733.gif', 4278), ('8472.gif', 3843), ('8308.gif', 3478), ('4.gif', 3357)]\n"
     ]
    }
   ],
   "source": [
    "top_requested_files = (\n",
    "    df_cleaned['resource']\n",
    "    .value_counts()\n",
    "    .head(10)\n",
    "    .items()\n",
    ")\n",
    "print(list(top_requested_files))\n"
   ]
  },
  {
   "cell_type": "markdown",
   "id": "183a5355-dbab-48fc-9ef6-fedbce675bec",
   "metadata": {},
   "source": [
    "# Q10. HTTP response code distribution"
   ]
  },
  {
   "cell_type": "code",
   "execution_count": 34,
   "id": "3e086baa-c5b0-456b-8743-b5e2e2992e09",
   "metadata": {},
   "outputs": [
    {
     "name": "stdout",
     "output_type": "stream",
     "text": [
      "{200: 328438, 302: 16595, 304: 70131, 400: 7, 401: 46, 403: 2022, 404: 14586, 500: 28, 501: 26}\n"
     ]
    }
   ],
   "source": [
    "status_distribution = df_cleaned['status'].value_counts().sort_index().to_dict()\n",
    "print(status_distribution)\n"
   ]
  },
  {
   "cell_type": "code",
   "execution_count": null,
   "id": "7b8a96de-829a-4680-a27f-cc521da093ab",
   "metadata": {},
   "outputs": [],
   "source": []
  }
 ],
 "metadata": {
  "kernelspec": {
   "display_name": "Python 3 (ipykernel)",
   "language": "python",
   "name": "python3"
  },
  "language_info": {
   "codemirror_mode": {
    "name": "ipython",
    "version": 3
   },
   "file_extension": ".py",
   "mimetype": "text/x-python",
   "name": "python",
   "nbconvert_exporter": "python",
   "pygments_lexer": "ipython3",
   "version": "3.12.5"
  }
 },
 "nbformat": 4,
 "nbformat_minor": 5
}
